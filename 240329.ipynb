{
  "nbformat": 4,
  "nbformat_minor": 0,
  "metadata": {
    "colab": {
      "provenance": []
    },
    "kernelspec": {
      "name": "python3",
      "display_name": "Python 3"
    },
    "language_info": {
      "name": "python"
    }
  },
  "cells": [
    {
      "cell_type": "code",
      "execution_count": 15,
      "metadata": {
        "colab": {
          "base_uri": "https://localhost:8080/"
        },
        "id": "oP8OC08cv97p",
        "outputId": "a8104a7c-2ba5-4ffa-d754-d03882d92545"
      },
      "outputs": [
        {
          "output_type": "stream",
          "name": "stdout",
          "text": [
            "분을 입력하세요.100\n",
            "1 시간 40 분\n",
            "1시간 40분\n",
            "100 -> 1시간 40분\n"
          ]
        }
      ],
      "source": [
        "a = int(input(\"분을 입력하세요.\"))\n",
        "b = a // 60\n",
        "c = a % 60\n",
        "print(b, \"시간\", c, \"분\")\n",
        "print(\"{}시간 {}분\".format(b,c))\n",
        "print(\"{:d} -> {:d}시간 {:d}분\".format(a,b,c))"
      ]
    },
    {
      "cell_type": "code",
      "source": [
        "a = int(input(\"섭씨 온도를 입력하세요.\"))\n",
        "b = a*1.8 + 32\n",
        "print(b)\n",
        "print(\"섭씨 %d도는 화씨 %.1f도 입니다.\"%(a,b))"
      ],
      "metadata": {
        "colab": {
          "base_uri": "https://localhost:8080/"
        },
        "id": "KdPrwRMHCwif",
        "outputId": "2c08ea5d-f60e-4533-80c4-7b834c0a6201"
      },
      "execution_count": 16,
      "outputs": [
        {
          "output_type": "stream",
          "name": "stdout",
          "text": [
            "섭씨 온도를 입력하세요.31\n",
            "87.80000000000001\n",
            "섭씨 31도는 화씨 87.8도 입니다.\n"
          ]
        }
      ]
    },
    {
      "cell_type": "code",
      "source": [
        "a = int(input(\"원의 반지름을 입력하시오.\"))\n",
        "b = 2*a*3.14\n",
        "c = a*a*3.14\n",
        "print(\"반지름이 %d인 원의 둘레는 %.1f이고 면적은 %.1f입니다.\"%(a,b,c))"
      ],
      "metadata": {
        "colab": {
          "base_uri": "https://localhost:8080/"
        },
        "id": "wsDM32Y8Dh2P",
        "outputId": "4f3f4dfb-ed12-4628-bf8b-4f6f9ea1a1d9"
      },
      "execution_count": 19,
      "outputs": [
        {
          "output_type": "stream",
          "name": "stdout",
          "text": [
            "원의 반지름을 입력하시오.10\n",
            "반지름이 10인 원의 둘레는 62.8이고 면적은 314.0입니다.\n"
          ]
        }
      ]
    }
  ]
}