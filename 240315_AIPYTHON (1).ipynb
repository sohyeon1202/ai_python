{
  "nbformat": 4,
  "nbformat_minor": 0,
  "metadata": {
    "colab": {
      "provenance": []
    },
    "kernelspec": {
      "name": "python3",
      "display_name": "Python 3"
    },
    "language_info": {
      "name": "python"
    }
  },
  "cells": [
    {
      "cell_type": "markdown",
      "source": [
        "두 수를 입력받아서 합을 출력하는 프로그램"
      ],
      "metadata": {
        "id": "yDMmoQif__i0"
      }
    },
    {
      "cell_type": "code",
      "execution_count": 2,
      "metadata": {
        "colab": {
          "base_uri": "https://localhost:8080/"
        },
        "id": "u5rIqLGV-io9",
        "outputId": "58459c57-6528-4a32-d2b8-2e16b99135b7"
      },
      "outputs": [
        {
          "output_type": "stream",
          "name": "stdout",
          "text": [
            "두 정수를 입력하세요(띄어쓰기로 구분): 34 23\n",
            "두 정수의 합은: 57\n"
          ]
        }
      ],
      "source": [
        "A, B = map(int, input(\"두 정수를 입력하세요(띄어쓰기로 구분): \").split())\n",
        "result = A + B\n",
        "print(\"두 정수의 합은:\", result)"
      ]
    },
    {
      "cell_type": "code",
      "source": [
        "print(\"hello python\")"
      ],
      "metadata": {
        "colab": {
          "base_uri": "https://localhost:8080/"
        },
        "id": "oToCzftW_cPM",
        "outputId": "13f74e96-fb3a-4b07-e95f-a36567ca2898"
      },
      "execution_count": 3,
      "outputs": [
        {
          "output_type": "stream",
          "name": "stdout",
          "text": [
            "hello python\n"
          ]
        }
      ]
    },
    {
      "cell_type": "code",
      "source": [
        "# prompt: 두 정수 A와 B가 주어졌을 때, A와 B를 비교하는 프로그램을 작성하시오.\n",
        "\n",
        "# 두 정수를 입력받아서 비교하는 프로그램\n",
        "A, B = map(int, input(\"두 정수를 입력하세요(띄어쓰기로 구분): \").split())\n",
        "\n",
        "if A > B:\n",
        "    print(\"A는 B보다 큽니다.\")\n",
        "elif A < B:\n",
        "    print(\"A는 B보다 작습니다.\")\n",
        "else:\n",
        "    print(\"A와 B는 같습니다.\")\n"
      ],
      "metadata": {
        "colab": {
          "base_uri": "https://localhost:8080/"
        },
        "id": "0V7D3rg-Afdj",
        "outputId": "9eb552bd-2927-48e4-c280-ac5d7f41fa71"
      },
      "execution_count": 4,
      "outputs": [
        {
          "output_type": "stream",
          "name": "stdout",
          "text": [
            "두 정수를 입력하세요(띄어쓰기로 구분): 9 46\n",
            "A는 B보다 작습니다.\n"
          ]
        }
      ]
    },
    {
      "cell_type": "code",
      "source": [
        "A, B = map(int, input().split())\n",
        "\n",
        "if A > B:\n",
        "    print(\">\")\n",
        "elif A < B:\n",
        "    print(\"<\")\n",
        "else:\n",
        "    print(\"==\")\n"
      ],
      "metadata": {
        "id": "wXzid816FASB"
      },
      "execution_count": null,
      "outputs": []
    }
  ]
}