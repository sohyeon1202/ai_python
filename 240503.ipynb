{
  "nbformat": 4,
  "nbformat_minor": 0,
  "metadata": {
    "colab": {
      "provenance": [],
      "authorship_tag": "ABX9TyOyEvptNXtrqdjTHfgzFget",
      "include_colab_link": true
    },
    "kernelspec": {
      "name": "python3",
      "display_name": "Python 3"
    },
    "language_info": {
      "name": "python"
    }
  },
  "cells": [
    {
      "cell_type": "markdown",
      "metadata": {
        "id": "view-in-github",
        "colab_type": "text"
      },
      "source": [
        "<a href=\"https://colab.research.google.com/github/sohyeon1202/ai_python/blob/main/240503.ipynb\" target=\"_parent\"><img src=\"https://colab.research.google.com/assets/colab-badge.svg\" alt=\"Open In Colab\"/></a>"
      ]
    },
    {
      "cell_type": "code",
      "execution_count": null,
      "metadata": {
        "id": "Qs0VXvph95B9"
      },
      "outputs": [],
      "source": [
        "#문제2_공백 없이 주어지는 숫자들의 합\n",
        "num = input()\n",
        "nums = list(num)\n",
        "aa = map(int, nums)\n",
        "print(sum(aa))"
      ]
    },
    {
      "cell_type": "code",
      "source": [
        "#문제3_리스트 확장자가 png jpg인 파일명만 출력하는 파이썬 코드\n",
        "n = int(input())\n",
        "a = [input() for _ in range(n)]\n",
        "b = [i for i in a if i.split('.')[-1]=='jpg' or i.split('.')[-1]=='png']"
      ],
      "metadata": {
        "id": "vNeDr80sDmQT"
      },
      "execution_count": null,
      "outputs": []
    },
    {
      "cell_type": "markdown",
      "source": [
        "패키지는 모듈을 포함함\n",
        "모듈 = 파이썬 코드를 담고 있는 파이썬 파일.\n"
      ],
      "metadata": {
        "id": "K1rS633pIHN6"
      }
    },
    {
      "cell_type": "code",
      "source": [
        "pip install pandas"
      ],
      "metadata": {
        "id": "9V2eG-bAJcb4"
      },
      "execution_count": null,
      "outputs": []
    },
    {
      "cell_type": "markdown",
      "source": [
        "벡터 = 스칼라의 집합\n",
        "행렬 = 벡터의 집합\n",
        "\n",
        "함수 : 함수 단독으로 사용\n",
        "메소드 : 객체명.메소드\n",
        "객체 속성은 괄호가 안 붙음\n",
        "넘파이 클래스 기본 속성 잘 알아두깅~!!!(자료 확인에 유용하게 활용)\n",
        "\n",
        "\n",
        "\n"
      ],
      "metadata": {
        "id": "Xv01JXocNeOf"
      }
    },
    {
      "cell_type": "code",
      "source": [
        "#1. 1부터 10까지(미포함)의 2걸음 크기의 정수값 배열을 생성해보자.\n",
        "import numpy as np\n",
        "a = np.arange(10)\n",
        "print(a)"
      ],
      "metadata": {
        "colab": {
          "base_uri": "https://localhost:8080/"
        },
        "id": "REcIFPMOUGz3",
        "outputId": "a9d305c2-cb92-4639-d531-730abf4beb23"
      },
      "execution_count": 2,
      "outputs": [
        {
          "output_type": "stream",
          "name": "stdout",
          "text": [
            "[0 1 2 3 4 5 6 7 8 9]\n"
          ]
        }
      ]
    },
    {
      "cell_type": "code",
      "source": [
        "#2. 모양이 (3, 4)인 모든 값이 1인 배열을 생성해보자.\n",
        "a = np.ones((3,4))\n",
        "print(a)"
      ],
      "metadata": {
        "colab": {
          "base_uri": "https://localhost:8080/"
        },
        "id": "UWpnUsVKUW2l",
        "outputId": "0b03dbf5-1e5a-49f6-aa1d-343f23d99927"
      },
      "execution_count": 5,
      "outputs": [
        {
          "output_type": "stream",
          "name": "stdout",
          "text": [
            "[[1. 1. 1. 1.]\n",
            " [1. 1. 1. 1.]\n",
            " [1. 1. 1. 1.]]\n"
          ]
        }
      ]
    },
    {
      "cell_type": "code",
      "source": [
        "#3. 0과 1사이를 10등분하고자 할 때 등분값 배열을 생성해보자\n",
        "a = np.linspace(0,1,10)\n",
        "print(a)"
      ],
      "metadata": {
        "colab": {
          "base_uri": "https://localhost:8080/"
        },
        "id": "mbDiJLKjUgI1",
        "outputId": "0838780f-9da7-4cab-d433-c23e56699245"
      },
      "execution_count": 4,
      "outputs": [
        {
          "output_type": "stream",
          "name": "stdout",
          "text": [
            "[0.         0.11111111 0.22222222 0.33333333 0.44444444 0.55555556\n",
            " 0.66666667 0.77777778 0.88888889 1.        ]\n"
          ]
        }
      ]
    },
    {
      "cell_type": "code",
      "source": [
        "a = np.array([[ 1, 2, 3, 4, 5],\n",
        " [ 6, 7, 8, 9, 10],\n",
        " [11, 12, 13, 14, 15],\n",
        " [16, 17, 18, 19, 20],\n",
        " [21, 22, 23, 24, 25]])\n",
        "print('shape : ',a.shape)\n",
        "print(a[3,3])\n",
        "\n",
        "print(a[0:2,0:2])\n",
        "print(a[-2:, -2:])\n",
        "\n",
        "\n",
        "print(a[0:2, :])\n",
        "print(a[:, -2:])\n",
        "\n"
      ],
      "metadata": {
        "colab": {
          "base_uri": "https://localhost:8080/"
        },
        "id": "v5YeJ6mbVVsF",
        "outputId": "0b02b46c-c7f3-4e0e-8278-6fc7534a0f5b"
      },
      "execution_count": 19,
      "outputs": [
        {
          "output_type": "stream",
          "name": "stdout",
          "text": [
            "shape :  (5, 5)\n",
            "19\n",
            "[[1 2]\n",
            " [6 7]]\n",
            "[[19 20]\n",
            " [24 25]]\n",
            "[[ 1  2  3  4  5]\n",
            " [ 6  7  8  9 10]]\n",
            "[[ 4  5]\n",
            " [ 9 10]\n",
            " [14 15]\n",
            " [19 20]\n",
            " [24 25]]\n"
          ]
        }
      ]
    },
    {
      "cell_type": "code",
      "source": [
        "a = np.arange(1,37)\n",
        "b = a.reshape(-1,4,3)\n",
        "print(b)"
      ],
      "metadata": {
        "colab": {
          "base_uri": "https://localhost:8080/"
        },
        "id": "BO8ML6r8cOQs",
        "outputId": "ed5e207d-a54a-4c35-b804-0f8a12b89233"
      },
      "execution_count": 35,
      "outputs": [
        {
          "output_type": "stream",
          "name": "stdout",
          "text": [
            "[[[ 1  2  3]\n",
            "  [ 4  5  6]\n",
            "  [ 7  8  9]\n",
            "  [10 11 12]]\n",
            "\n",
            " [[13 14 15]\n",
            "  [16 17 18]\n",
            "  [19 20 21]\n",
            "  [22 23 24]]\n",
            "\n",
            " [[25 26 27]\n",
            "  [28 29 30]\n",
            "  [31 32 33]\n",
            "  [34 35 36]]]\n"
          ]
        }
      ]
    }
  ]
}